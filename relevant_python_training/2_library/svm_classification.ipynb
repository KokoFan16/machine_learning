{
 "cells": [
  {
   "cell_type": "markdown",
   "metadata": {},
   "source": [
    "#  SVM Classification (scikit-learn)"
   ]
  },
  {
   "cell_type": "code",
   "execution_count": 1,
   "metadata": {},
   "outputs": [
    {
     "data": {
      "application/javascript": [
       "IPython.notebook.clear_all_output();\n"
      ],
      "text/plain": [
       "<IPython.core.display.Javascript object>"
      ]
     },
     "metadata": {},
     "output_type": "display_data"
    }
   ],
   "source": [
    "%%javascript\n",
    "IPython.notebook.clear_all_output();"
   ]
  },
  {
   "cell_type": "markdown",
   "metadata": {},
   "source": [
    "## Import an Internal Dataset"
   ]
  },
  {
   "cell_type": "code",
   "execution_count": 2,
   "metadata": {},
   "outputs": [
    {
     "name": "stdout",
     "output_type": "stream",
     "text": [
      "[0 0 0 0 0 0 0 0 0 0 0 0 0 0 0 0 0 0 0 0 0 0 0 0 0 0 0 0 0 0 0 0 0 0 0 0 0\n",
      " 0 0 0 0 0 0 0 0 0 0 0 0 0 1 1 1 1 1 1 1 1 1 1 1 1 1 1 1 1 1 1 1 1 1 1 1 1\n",
      " 1 1 1 1 1 1 1 1 1 1 1 1 1 1 1 1 1 1 1 1 1 1 1 1 1 1 2 2 2 2 2 2 2 2 2 2 2\n",
      " 2 2 2 2 2 2 2 2 2 2 2 2 2 2 2 2 2 2 2 2 2 2 2 2 2 2 2 2 2 2 2 2 2 2 2 2 2\n",
      " 2 2]\n"
     ]
    }
   ],
   "source": [
    "from sklearn.datasets import load_iris\n",
    "\n",
    "iris = load_iris()\n",
    "print(iris.target)"
   ]
  },
  {
   "cell_type": "code",
   "execution_count": 3,
   "metadata": {},
   "outputs": [
    {
     "name": "stdout",
     "output_type": "stream",
     "text": [
      "[42, 59, 86, 25, 43, 20, 125, 81, 124, 67, 35, 63, 21, 51, 73, 11, 24, 4, 71, 138, 141, 52, 39, 110, 0, 7, 23, 61, 92, 19, 50, 106, 94, 36, 91, 96, 31, 137, 22, 134, 143, 69, 115, 102, 29, 108, 114, 103, 3, 111, 27, 32, 147, 133, 97, 55, 79, 5, 49, 148, 62, 132, 95, 80, 100, 90, 38, 44, 105, 13, 146, 123, 70, 2, 40, 8, 127, 119, 53, 16, 26, 118, 98, 84, 1, 45, 68, 56, 85, 136, 10, 129, 116, 93, 66, 9, 122, 6, 76, 87, 77, 82, 107, 37, 54, 17, 58, 88, 57, 74, 128, 142, 65, 120, 28, 64, 46, 135, 113, 12, 101, 34, 131, 47, 33, 60, 83, 145, 140, 18, 112, 41, 126, 149, 117, 75, 139, 121, 130, 144, 104, 109, 89, 99, 15, 48, 30, 78, 72, 14]\n",
      "\n",
      "[0 1 1 0 0 0 2 1 2 1 0 1 0 1 1 0 0 0 1 2 2 1 0 2 0 0 0 1 1 0 1 2 1 0 1 1 0\n",
      " 2 0 2 2 1 2 2 0 2 2 2 0 2 0 0 2 2 1 1 1 0 0 2 1 2 1 1 2 1 0 0 2 0 2 2 1 0\n",
      " 0 0 2 2 1 0 0 2 1 1 0 0 1 1 1 2 0 2 2 1 1 0 2 0 1 1 1 1 2 0 1 0 1 1 1 1 2\n",
      " 2 1 2 0 1 0 2 2 0 2 0 2 0 0 1 1 2 2 0 2 0 2 2 2 1 2 2 2 2 2 2 1 1 0 0 0 1\n",
      " 1 0]\n"
     ]
    }
   ],
   "source": [
    "import random\n",
    "\n",
    "N = iris.target.shape[0]\n",
    "indices = list(range(N))\n",
    "random.shuffle(indices)\n",
    "print(indices)\n",
    "\n",
    "print()\n",
    "\n",
    "iris.data = iris.data[indices]\n",
    "iris.target = iris.target[indices]\n",
    "print(iris.target)"
   ]
  },
  {
   "cell_type": "code",
   "execution_count": 4,
   "metadata": {},
   "outputs": [
    {
     "name": "stdout",
     "output_type": "stream",
     "text": [
      "(120, 4)\n",
      "(30, 4)\n",
      "(120,)\n",
      "(30,)\n"
     ]
    }
   ],
   "source": [
    "# 120 tuples for training, 30 for testing\n",
    "X_train = iris.data[:120]\n",
    "print(X_train.shape)\n",
    "X_test = iris.data[120:]\n",
    "print(X_test.shape)\n",
    "y_train = iris.target[:120]\n",
    "print(y_train.shape)\n",
    "y_test = iris.target[120:]\n",
    "print(y_test.shape)"
   ]
  },
  {
   "cell_type": "markdown",
   "metadata": {},
   "source": [
    "# sklearn.svm.SVC\n",
    "\n",
    "# 1. Linear Kernel: \n",
    "\n",
    "## Training\n",
    "**C : float, optional (default=1.0):** Penalty parameter C of the error term.\n",
    "\n",
    "Difference from SVR: there is no \"epsilon\""
   ]
  },
  {
   "cell_type": "code",
   "execution_count": 5,
   "metadata": {},
   "outputs": [
    {
     "name": "stdout",
     "output_type": "stream",
     "text": [
      "[2 0 2 0 0 1 2 2 2 0]\n",
      "[2 0 2 0 0 1 1 2 2 0]\n",
      "Accuracy: 0.933333%\n"
     ]
    }
   ],
   "source": [
    "from sklearn import svm\n",
    "import numpy as np\n",
    "\n",
    "model = svm.SVC(kernel = 'linear', C = 1)\n",
    "\n",
    "# training\n",
    "model.fit(X_train, y_train)\n",
    "\n",
    "# testing\n",
    "y_predict = model.predict(X_test)\n",
    "n_report = 10\n",
    "print(y_predict[range(n_report)])\n",
    "print(y_test[:n_report])\n",
    "print('Accuracy: %f%%' % (np.mean(y_predict == y_test),))"
   ]
  },
  {
   "cell_type": "markdown",
   "metadata": {},
   "source": [
    "## Grid Search for Hyperparameters\n",
    "\n",
    "See how to use `sklearn.model_selection.GridSearchCV(.)` :-)"
   ]
  },
  {
   "cell_type": "code",
   "execution_count": 35,
   "metadata": {},
   "outputs": [
    {
     "name": "stdout",
     "output_type": "stream",
     "text": [
      "[1.e-06 1.e-05 1.e-04 1.e-03 1.e-02 1.e-01 1.e+00 1.e+01 1.e+02 1.e+03\n",
      " 1.e+04 1.e+05 1.e+06]\n",
      "Fitting 3 folds for each of 13 candidates, totalling 39 fits\n",
      "====== Scores for all models ======\n"
     ]
    },
    {
     "name": "stderr",
     "output_type": "stream",
     "text": [
      "/anaconda3/lib/python3.7/site-packages/sklearn/model_selection/_split.py:2053: FutureWarning: You should specify a value for 'cv' instead of relying on the default value. The default value will change from 3 to 5 in version 0.22.\n",
      "  warnings.warn(CV_WARNING, FutureWarning)\n",
      "[Parallel(n_jobs=1)]: Using backend SequentialBackend with 1 concurrent workers.\n",
      "[Parallel(n_jobs=1)]: Done  39 out of  39 | elapsed:    0.0s finished\n",
      "/anaconda3/lib/python3.7/site-packages/sklearn/model_selection/_search.py:841: DeprecationWarning: The default of the `iid` parameter will change from True to False in version 0.22 and will be removed in 0.24. This will change numeric results when test-set sizes are unequal.\n",
      "  DeprecationWarning)\n"
     ]
    },
    {
     "data": {
      "text/plain": [
       "['mean', 'std', 'params']"
      ]
     },
     "metadata": {},
     "output_type": "display_data"
    },
    {
     "data": {
      "text/plain": [
       "[(0.35833333333333334, 0.006527231646770835, {'C': 1e-06}),\n",
       " (0.35833333333333334, 0.006527231646770835, {'C': 1e-05}),\n",
       " (0.35833333333333334, 0.006527231646770835, {'C': 0.0001}),\n",
       " (0.35833333333333334, 0.006527231646770835, {'C': 0.001}),\n",
       " (0.75, 0.023222173347924247, {'C': 0.01}),\n",
       " (0.95, 0.02004203941111067, {'C': 0.1}),\n",
       " (0.975, 0.019908326484529903, {'C': 1.0}),\n",
       " (0.9833333333333333, 0.012009611535381545, {'C': 10.0}),\n",
       " (0.9666666666666667, 0.0117961632922642, {'C': 100.0}),\n",
       " (0.975, 0.020542846614053947, {'C': 1000.0}),\n",
       " (0.975, 0.020542846614053947, {'C': 10000.0}),\n",
       " (0.975, 0.020542846614053947, {'C': 100000.0}),\n",
       " (0.975, 0.020542846614053947, {'C': 1000000.0})]"
      ]
     },
     "metadata": {},
     "output_type": "display_data"
    },
    {
     "name": "stdout",
     "output_type": "stream",
     "text": [
      "\n",
      "====== Parameters for the best model ======\n",
      "{'C': 10.0}\n",
      "\n",
      "====== Score for the best model ======\n",
      "0.9833333333333333\n"
     ]
    }
   ],
   "source": [
    "from sklearn.model_selection import GridSearchCV\n",
    "# create a model with some fixed hyperparameters\n",
    "model = svm.SVC(kernel = 'linear')\n",
    "# create a dictionary of hyperparameters (of the model) for grid search\n",
    "exp = 6\n",
    "vals = np.logspace(-exp, exp, 2*exp+1) # base 10\n",
    "print(vals)\n",
    "params = {\n",
    "    'C': vals\n",
    "}\n",
    "# grid search\n",
    "gridsearch = GridSearchCV(estimator = model, param_grid = params, verbose = 1)\n",
    "# set verbose = 2 if you want to see the progress of each model training\n",
    "gridsearch.fit(X_train, y_train);\n",
    "\n",
    "# print results\n",
    "print(\"====== Scores for all models ======\")\n",
    "display(['mean', 'std', 'params'])\n",
    "display(list(zip(gridsearch.cv_results_['mean_test_score'], gridsearch.cv_results_['std_test_score'], gridsearch.cv_results_['params']))) # IPython.display, a better looking function than print()\n",
    "print()\n",
    "\n",
    "print(\"====== Parameters for the best model ======\")\n",
    "print(gridsearch.best_params_)\n",
    "print()\n",
    "\n",
    "print(\"====== Score for the best model ======\")\n",
    "print(gridsearch.best_score_)"
   ]
  },
  {
   "cell_type": "markdown",
   "metadata": {},
   "source": [
    "## Put in the best parameters"
   ]
  },
  {
   "cell_type": "code",
   "execution_count": 36,
   "metadata": {},
   "outputs": [
    {
     "name": "stdout",
     "output_type": "stream",
     "text": [
      "Accuracy: 0.933333%\n"
     ]
    }
   ],
   "source": [
    "model = gridsearch.best_estimator_\n",
    "\n",
    "# testing\n",
    "y_predict = model.predict(X_test)\n",
    "print('Accuracy: %f%%' % (np.mean(y_predict == y_test),))"
   ]
  },
  {
   "cell_type": "markdown",
   "metadata": {},
   "source": [
    "## Next: kernel functions:\n",
    "\n",
    "Check their definitions first: http://scikit-learn.org/dev/modules/svm.html#kernel-functions"
   ]
  },
  {
   "cell_type": "markdown",
   "metadata": {},
   "source": [
    "# 2. RBF Kernel: \n",
    "\n",
    "## Training\n",
    "**gamma : float, optional (default=’auto’):** Kernel coefficient\n",
    "\n",
    "**C : float, optional (default=1.0):** Penalty parameter C of the error term."
   ]
  },
  {
   "cell_type": "code",
   "execution_count": 37,
   "metadata": {},
   "outputs": [
    {
     "name": "stdout",
     "output_type": "stream",
     "text": [
      "[1.e-06 1.e-05 1.e-04 1.e-03 1.e-02 1.e-01 1.e+00 1.e+01 1.e+02 1.e+03\n",
      " 1.e+04 1.e+05 1.e+06]\n",
      "Fitting 3 folds for each of 169 candidates, totalling 507 fits\n"
     ]
    },
    {
     "name": "stderr",
     "output_type": "stream",
     "text": [
      "/anaconda3/lib/python3.7/site-packages/sklearn/model_selection/_split.py:2053: FutureWarning: You should specify a value for 'cv' instead of relying on the default value. The default value will change from 3 to 5 in version 0.22.\n",
      "  warnings.warn(CV_WARNING, FutureWarning)\n",
      "[Parallel(n_jobs=1)]: Using backend SequentialBackend with 1 concurrent workers.\n"
     ]
    },
    {
     "name": "stdout",
     "output_type": "stream",
     "text": [
      "====== Scores for all models ======\n"
     ]
    },
    {
     "name": "stderr",
     "output_type": "stream",
     "text": [
      "[Parallel(n_jobs=1)]: Done 507 out of 507 | elapsed:    0.7s finished\n",
      "/anaconda3/lib/python3.7/site-packages/sklearn/model_selection/_search.py:841: DeprecationWarning: The default of the `iid` parameter will change from True to False in version 0.22 and will be removed in 0.24. This will change numeric results when test-set sizes are unequal.\n",
      "  DeprecationWarning)\n"
     ]
    },
    {
     "data": {
      "text/plain": [
       "['mean', 'std', 'params']"
      ]
     },
     "metadata": {},
     "output_type": "display_data"
    },
    {
     "data": {
      "text/plain": [
       "[(0.35833333333333334, 0.006527231646770835, {'C': 1e-06, 'gamma': 1e-06}),\n",
       " (0.35833333333333334, 0.006527231646770835, {'C': 1e-06, 'gamma': 1e-05}),\n",
       " (0.35833333333333334, 0.006527231646770835, {'C': 1e-06, 'gamma': 0.0001}),\n",
       " (0.35833333333333334, 0.006527231646770835, {'C': 1e-06, 'gamma': 0.001}),\n",
       " (0.35833333333333334, 0.006527231646770835, {'C': 1e-06, 'gamma': 0.01}),\n",
       " (0.35833333333333334, 0.006527231646770835, {'C': 1e-06, 'gamma': 0.1}),\n",
       " (0.35833333333333334, 0.006527231646770835, {'C': 1e-06, 'gamma': 1.0}),\n",
       " (0.35833333333333334, 0.006527231646770835, {'C': 1e-06, 'gamma': 10.0}),\n",
       " (0.35833333333333334, 0.006527231646770835, {'C': 1e-06, 'gamma': 100.0}),\n",
       " (0.35833333333333334, 0.006527231646770835, {'C': 1e-06, 'gamma': 1000.0}),\n",
       " (0.35833333333333334, 0.006527231646770835, {'C': 1e-06, 'gamma': 10000.0}),\n",
       " (0.35833333333333334, 0.006527231646770835, {'C': 1e-06, 'gamma': 100000.0}),\n",
       " (0.35833333333333334, 0.006527231646770835, {'C': 1e-06, 'gamma': 1000000.0}),\n",
       " (0.35833333333333334, 0.006527231646770835, {'C': 1e-05, 'gamma': 1e-06}),\n",
       " (0.35833333333333334, 0.006527231646770835, {'C': 1e-05, 'gamma': 1e-05}),\n",
       " (0.35833333333333334, 0.006527231646770835, {'C': 1e-05, 'gamma': 0.0001}),\n",
       " (0.35833333333333334, 0.006527231646770835, {'C': 1e-05, 'gamma': 0.001}),\n",
       " (0.35833333333333334, 0.006527231646770835, {'C': 1e-05, 'gamma': 0.01}),\n",
       " (0.35833333333333334, 0.006527231646770835, {'C': 1e-05, 'gamma': 0.1}),\n",
       " (0.35833333333333334, 0.006527231646770835, {'C': 1e-05, 'gamma': 1.0}),\n",
       " (0.35833333333333334, 0.006527231646770835, {'C': 1e-05, 'gamma': 10.0}),\n",
       " (0.35833333333333334, 0.006527231646770835, {'C': 1e-05, 'gamma': 100.0}),\n",
       " (0.35833333333333334, 0.006527231646770835, {'C': 1e-05, 'gamma': 1000.0}),\n",
       " (0.35833333333333334, 0.006527231646770835, {'C': 1e-05, 'gamma': 10000.0}),\n",
       " (0.35833333333333334, 0.006527231646770835, {'C': 1e-05, 'gamma': 100000.0}),\n",
       " (0.35833333333333334, 0.006527231646770835, {'C': 1e-05, 'gamma': 1000000.0}),\n",
       " (0.35833333333333334, 0.006527231646770835, {'C': 0.0001, 'gamma': 1e-06}),\n",
       " (0.35833333333333334, 0.006527231646770835, {'C': 0.0001, 'gamma': 1e-05}),\n",
       " (0.35833333333333334, 0.006527231646770835, {'C': 0.0001, 'gamma': 0.0001}),\n",
       " (0.35833333333333334, 0.006527231646770835, {'C': 0.0001, 'gamma': 0.001}),\n",
       " (0.35833333333333334, 0.006527231646770835, {'C': 0.0001, 'gamma': 0.01}),\n",
       " (0.35833333333333334, 0.006527231646770835, {'C': 0.0001, 'gamma': 0.1}),\n",
       " (0.35833333333333334, 0.006527231646770835, {'C': 0.0001, 'gamma': 1.0}),\n",
       " (0.35833333333333334, 0.006527231646770835, {'C': 0.0001, 'gamma': 10.0}),\n",
       " (0.35833333333333334, 0.006527231646770835, {'C': 0.0001, 'gamma': 100.0}),\n",
       " (0.35833333333333334, 0.006527231646770835, {'C': 0.0001, 'gamma': 1000.0}),\n",
       " (0.35833333333333334, 0.006527231646770835, {'C': 0.0001, 'gamma': 10000.0}),\n",
       " (0.35833333333333334, 0.006527231646770835, {'C': 0.0001, 'gamma': 100000.0}),\n",
       " (0.35833333333333334,\n",
       "  0.006527231646770835,\n",
       "  {'C': 0.0001, 'gamma': 1000000.0}),\n",
       " (0.35833333333333334, 0.006527231646770835, {'C': 0.001, 'gamma': 1e-06}),\n",
       " (0.35833333333333334, 0.006527231646770835, {'C': 0.001, 'gamma': 1e-05}),\n",
       " (0.35833333333333334, 0.006527231646770835, {'C': 0.001, 'gamma': 0.0001}),\n",
       " (0.35833333333333334, 0.006527231646770835, {'C': 0.001, 'gamma': 0.001}),\n",
       " (0.35833333333333334, 0.006527231646770835, {'C': 0.001, 'gamma': 0.01}),\n",
       " (0.35833333333333334, 0.006527231646770835, {'C': 0.001, 'gamma': 0.1}),\n",
       " (0.35833333333333334, 0.006527231646770835, {'C': 0.001, 'gamma': 1.0}),\n",
       " (0.35833333333333334, 0.006527231646770835, {'C': 0.001, 'gamma': 10.0}),\n",
       " (0.35833333333333334, 0.006527231646770835, {'C': 0.001, 'gamma': 100.0}),\n",
       " (0.35833333333333334, 0.006527231646770835, {'C': 0.001, 'gamma': 1000.0}),\n",
       " (0.35833333333333334, 0.006527231646770835, {'C': 0.001, 'gamma': 10000.0}),\n",
       " (0.35833333333333334, 0.006527231646770835, {'C': 0.001, 'gamma': 100000.0}),\n",
       " (0.35833333333333334, 0.006527231646770835, {'C': 0.001, 'gamma': 1000000.0}),\n",
       " (0.35833333333333334, 0.006527231646770835, {'C': 0.01, 'gamma': 1e-06}),\n",
       " (0.35833333333333334, 0.006527231646770835, {'C': 0.01, 'gamma': 1e-05}),\n",
       " (0.35833333333333334, 0.006527231646770835, {'C': 0.01, 'gamma': 0.0001}),\n",
       " (0.35833333333333334, 0.006527231646770835, {'C': 0.01, 'gamma': 0.001}),\n",
       " (0.35833333333333334, 0.006527231646770835, {'C': 0.01, 'gamma': 0.01}),\n",
       " (0.35833333333333334, 0.006527231646770835, {'C': 0.01, 'gamma': 0.1}),\n",
       " (0.35833333333333334, 0.006527231646770835, {'C': 0.01, 'gamma': 1.0}),\n",
       " (0.35833333333333334, 0.006527231646770835, {'C': 0.01, 'gamma': 10.0}),\n",
       " (0.35833333333333334, 0.006527231646770835, {'C': 0.01, 'gamma': 100.0}),\n",
       " (0.35833333333333334, 0.006527231646770835, {'C': 0.01, 'gamma': 1000.0}),\n",
       " (0.35833333333333334, 0.006527231646770835, {'C': 0.01, 'gamma': 10000.0}),\n",
       " (0.35833333333333334, 0.006527231646770835, {'C': 0.01, 'gamma': 100000.0}),\n",
       " (0.35833333333333334, 0.006527231646770835, {'C': 0.01, 'gamma': 1000000.0}),\n",
       " (0.35833333333333334, 0.006527231646770835, {'C': 0.1, 'gamma': 1e-06}),\n",
       " (0.35833333333333334, 0.006527231646770835, {'C': 0.1, 'gamma': 1e-05}),\n",
       " (0.35833333333333334, 0.006527231646770835, {'C': 0.1, 'gamma': 0.0001}),\n",
       " (0.35833333333333334, 0.006527231646770835, {'C': 0.1, 'gamma': 0.001}),\n",
       " (0.35833333333333334, 0.006527231646770835, {'C': 0.1, 'gamma': 0.01}),\n",
       " (0.8416666666666667, 0.06601364821833766, {'C': 0.1, 'gamma': 0.1}),\n",
       " (0.9416666666666667, 0.01182925217435053, {'C': 0.1, 'gamma': 1.0}),\n",
       " (0.39166666666666666, 0.019055644137195342, {'C': 0.1, 'gamma': 10.0}),\n",
       " (0.35833333333333334, 0.006527231646770835, {'C': 0.1, 'gamma': 100.0}),\n",
       " (0.35833333333333334, 0.006527231646770835, {'C': 0.1, 'gamma': 1000.0}),\n",
       " (0.35833333333333334, 0.006527231646770835, {'C': 0.1, 'gamma': 10000.0}),\n",
       " (0.35833333333333334, 0.006527231646770835, {'C': 0.1, 'gamma': 100000.0}),\n",
       " (0.35833333333333334, 0.006527231646770835, {'C': 0.1, 'gamma': 1000000.0}),\n",
       " (0.35833333333333334, 0.006527231646770835, {'C': 1.0, 'gamma': 1e-06}),\n",
       " (0.35833333333333334, 0.006527231646770835, {'C': 1.0, 'gamma': 1e-05}),\n",
       " (0.35833333333333334, 0.006527231646770835, {'C': 1.0, 'gamma': 0.0001}),\n",
       " (0.35833333333333334, 0.006527231646770835, {'C': 1.0, 'gamma': 0.001}),\n",
       " (0.9, 0.054262495210702935, {'C': 1.0, 'gamma': 0.01}),\n",
       " (0.95, 0.02004203941111067, {'C': 1.0, 'gamma': 0.1}),\n",
       " (0.975, 0.020042039411110716, {'C': 1.0, 'gamma': 1.0}),\n",
       " (0.9666666666666667, 0.031098889391893286, {'C': 1.0, 'gamma': 10.0}),\n",
       " (0.49166666666666664, 0.015592328255837012, {'C': 1.0, 'gamma': 100.0}),\n",
       " (0.35833333333333334, 0.006527231646770835, {'C': 1.0, 'gamma': 1000.0}),\n",
       " (0.35833333333333334, 0.006527231646770835, {'C': 1.0, 'gamma': 10000.0}),\n",
       " (0.35833333333333334, 0.006527231646770835, {'C': 1.0, 'gamma': 100000.0}),\n",
       " (0.35833333333333334, 0.006527231646770835, {'C': 1.0, 'gamma': 1000000.0}),\n",
       " (0.35833333333333334, 0.006527231646770835, {'C': 10.0, 'gamma': 1e-06}),\n",
       " (0.35833333333333334, 0.006527231646770835, {'C': 10.0, 'gamma': 1e-05}),\n",
       " (0.35833333333333334, 0.006527231646770835, {'C': 10.0, 'gamma': 0.0001}),\n",
       " (0.9, 0.054262495210702935, {'C': 10.0, 'gamma': 0.001}),\n",
       " (0.9583333333333334, 0.011131287705325784, {'C': 10.0, 'gamma': 0.01}),\n",
       " (0.9833333333333333, 0.02313504597582473, {'C': 10.0, 'gamma': 0.1}),\n",
       " (0.9416666666666667, 0.029937656714512095, {'C': 10.0, 'gamma': 1.0}),\n",
       " (0.9666666666666667, 0.031098889391893286, {'C': 10.0, 'gamma': 10.0}),\n",
       " (0.525, 0.017694244938396286, {'C': 10.0, 'gamma': 100.0}),\n",
       " (0.35833333333333334, 0.006527231646770835, {'C': 10.0, 'gamma': 1000.0}),\n",
       " (0.35833333333333334, 0.006527231646770835, {'C': 10.0, 'gamma': 10000.0}),\n",
       " (0.35833333333333334, 0.006527231646770835, {'C': 10.0, 'gamma': 100000.0}),\n",
       " (0.35833333333333334, 0.006527231646770835, {'C': 10.0, 'gamma': 1000000.0}),\n",
       " (0.35833333333333334, 0.006527231646770835, {'C': 100.0, 'gamma': 1e-06}),\n",
       " (0.35833333333333334, 0.006527231646770835, {'C': 100.0, 'gamma': 1e-05}),\n",
       " (0.9, 0.054262495210702935, {'C': 100.0, 'gamma': 0.0001}),\n",
       " (0.9666666666666667, 0.011131287705325784, {'C': 100.0, 'gamma': 0.001}),\n",
       " (0.975, 0.00051046990985974, {'C': 100.0, 'gamma': 0.01}),\n",
       " (0.9416666666666667, 0.029937656714512095, {'C': 100.0, 'gamma': 0.1}),\n",
       " (0.9583333333333334, 0.011131287705325784, {'C': 100.0, 'gamma': 1.0}),\n",
       " (0.9666666666666667, 0.031098889391893286, {'C': 100.0, 'gamma': 10.0}),\n",
       " (0.525, 0.017694244938396286, {'C': 100.0, 'gamma': 100.0}),\n",
       " (0.35833333333333334, 0.006527231646770835, {'C': 100.0, 'gamma': 1000.0}),\n",
       " (0.35833333333333334, 0.006527231646770835, {'C': 100.0, 'gamma': 10000.0}),\n",
       " (0.35833333333333334, 0.006527231646770835, {'C': 100.0, 'gamma': 100000.0}),\n",
       " (0.35833333333333334, 0.006527231646770835, {'C': 100.0, 'gamma': 1000000.0}),\n",
       " (0.35833333333333334, 0.006527231646770835, {'C': 1000.0, 'gamma': 1e-06}),\n",
       " (0.9, 0.054262495210702935, {'C': 1000.0, 'gamma': 1e-05}),\n",
       " (0.9666666666666667, 0.011131287705325784, {'C': 1000.0, 'gamma': 0.0001}),\n",
       " (0.975, 0.00051046990985974, {'C': 1000.0, 'gamma': 0.001}),\n",
       " (0.9666666666666667, 0.011131287705325784, {'C': 1000.0, 'gamma': 0.01}),\n",
       " (0.975, 0.00051046990985974, {'C': 1000.0, 'gamma': 0.1}),\n",
       " (0.9583333333333334, 0.011131287705325784, {'C': 1000.0, 'gamma': 1.0}),\n",
       " (0.9666666666666667, 0.031098889391893286, {'C': 1000.0, 'gamma': 10.0}),\n",
       " (0.525, 0.017694244938396286, {'C': 1000.0, 'gamma': 100.0}),\n",
       " (0.35833333333333334, 0.006527231646770835, {'C': 1000.0, 'gamma': 1000.0}),\n",
       " (0.35833333333333334, 0.006527231646770835, {'C': 1000.0, 'gamma': 10000.0}),\n",
       " (0.35833333333333334, 0.006527231646770835, {'C': 1000.0, 'gamma': 100000.0}),\n",
       " (0.35833333333333334,\n",
       "  0.006527231646770835,\n",
       "  {'C': 1000.0, 'gamma': 1000000.0}),\n",
       " (0.9, 0.054262495210702935, {'C': 10000.0, 'gamma': 1e-06}),\n",
       " (0.9666666666666667, 0.011131287705325784, {'C': 10000.0, 'gamma': 1e-05}),\n",
       " (0.975, 0.00051046990985974, {'C': 10000.0, 'gamma': 0.0001}),\n",
       " (0.975, 0.00051046990985974, {'C': 10000.0, 'gamma': 0.001}),\n",
       " (0.9833333333333333, 0.012009611535381545, {'C': 10000.0, 'gamma': 0.01}),\n",
       " (0.975, 0.00051046990985974, {'C': 10000.0, 'gamma': 0.1}),\n",
       " (0.9583333333333334, 0.011131287705325784, {'C': 10000.0, 'gamma': 1.0}),\n",
       " (0.9666666666666667, 0.031098889391893286, {'C': 10000.0, 'gamma': 10.0}),\n",
       " (0.525, 0.017694244938396286, {'C': 10000.0, 'gamma': 100.0}),\n",
       " (0.35833333333333334, 0.006527231646770835, {'C': 10000.0, 'gamma': 1000.0}),\n",
       " (0.35833333333333334, 0.006527231646770835, {'C': 10000.0, 'gamma': 10000.0}),\n",
       " (0.35833333333333334,\n",
       "  0.006527231646770835,\n",
       "  {'C': 10000.0, 'gamma': 100000.0}),\n",
       " (0.35833333333333334,\n",
       "  0.006527231646770835,\n",
       "  {'C': 10000.0, 'gamma': 1000000.0}),\n",
       " (0.9583333333333334, 0.011131287705325784, {'C': 100000.0, 'gamma': 1e-06}),\n",
       " (0.975, 0.00051046990985974, {'C': 100000.0, 'gamma': 1e-05}),\n",
       " (0.975, 0.00051046990985974, {'C': 100000.0, 'gamma': 0.0001}),\n",
       " (0.975, 0.020542846614053947, {'C': 100000.0, 'gamma': 0.001}),\n",
       " (0.9833333333333333, 0.012009611535381545, {'C': 100000.0, 'gamma': 0.01}),\n",
       " (0.975, 0.00051046990985974, {'C': 100000.0, 'gamma': 0.1}),\n",
       " (0.9583333333333334, 0.011131287705325784, {'C': 100000.0, 'gamma': 1.0}),\n",
       " (0.9666666666666667, 0.031098889391893286, {'C': 100000.0, 'gamma': 10.0}),\n",
       " (0.525, 0.017694244938396286, {'C': 100000.0, 'gamma': 100.0}),\n",
       " (0.35833333333333334, 0.006527231646770835, {'C': 100000.0, 'gamma': 1000.0}),\n",
       " (0.35833333333333334,\n",
       "  0.006527231646770835,\n",
       "  {'C': 100000.0, 'gamma': 10000.0}),\n",
       " (0.35833333333333334,\n",
       "  0.006527231646770835,\n",
       "  {'C': 100000.0, 'gamma': 100000.0}),\n",
       " (0.35833333333333334,\n",
       "  0.006527231646770835,\n",
       "  {'C': 100000.0, 'gamma': 1000000.0}),\n",
       " (0.975, 0.019908326484529903, {'C': 1000000.0, 'gamma': 1e-06}),\n",
       " (0.975, 0.00051046990985974, {'C': 1000000.0, 'gamma': 1e-05}),\n",
       " (0.975, 0.020542846614053947, {'C': 1000000.0, 'gamma': 0.0001}),\n",
       " (0.975, 0.020542846614053947, {'C': 1000000.0, 'gamma': 0.001}),\n",
       " (0.9833333333333333, 0.012009611535381545, {'C': 1000000.0, 'gamma': 0.01}),\n",
       " (0.975, 0.00051046990985974, {'C': 1000000.0, 'gamma': 0.1}),\n",
       " (0.9583333333333334, 0.011131287705325784, {'C': 1000000.0, 'gamma': 1.0}),\n",
       " (0.9666666666666667, 0.031098889391893286, {'C': 1000000.0, 'gamma': 10.0}),\n",
       " (0.525, 0.017694244938396286, {'C': 1000000.0, 'gamma': 100.0}),\n",
       " (0.35833333333333334,\n",
       "  0.006527231646770835,\n",
       "  {'C': 1000000.0, 'gamma': 1000.0}),\n",
       " (0.35833333333333334,\n",
       "  0.006527231646770835,\n",
       "  {'C': 1000000.0, 'gamma': 10000.0}),\n",
       " (0.35833333333333334,\n",
       "  0.006527231646770835,\n",
       "  {'C': 1000000.0, 'gamma': 100000.0}),\n",
       " (0.35833333333333334,\n",
       "  0.006527231646770835,\n",
       "  {'C': 1000000.0, 'gamma': 1000000.0})]"
      ]
     },
     "metadata": {},
     "output_type": "display_data"
    },
    {
     "name": "stdout",
     "output_type": "stream",
     "text": [
      "\n",
      "====== Parameters for the best model ======\n",
      "{'C': 10.0, 'gamma': 0.1}\n",
      "\n",
      "====== Score for the best model ======\n",
      "0.9833333333333333\n"
     ]
    }
   ],
   "source": [
    "model = svm.SVC(kernel = 'rbf')\n",
    "# create a dictionary of hyperparameters (of the model) for grid search\n",
    "exp = 6\n",
    "vals = np.logspace(-exp, exp, 2*exp+1) # base 10\n",
    "print(vals)\n",
    "params = {\n",
    "    'gamma': vals,\n",
    "    'C': vals\n",
    "}\n",
    "# grid search\n",
    "gridsearch = GridSearchCV(estimator = model, param_grid = params, verbose = 1)\n",
    "# set verbose = 2 if you want to see the progress of each model training\n",
    "gridsearch.fit(X_train, y_train);\n",
    "\n",
    "# print results\n",
    "print(\"====== Scores for all models ======\")\n",
    "display(['mean', 'std', 'params'])\n",
    "display(list(zip(gridsearch.cv_results_['mean_test_score'], gridsearch.cv_results_['std_test_score'], gridsearch.cv_results_['params']))) # IPython.display, a better looking function than print()\n",
    "print()\n",
    "\n",
    "print(\"====== Parameters for the best model ======\")\n",
    "print(gridsearch.best_params_)\n",
    "print()\n",
    "\n",
    "print(\"====== Score for the best model ======\")\n",
    "print(gridsearch.best_score_)"
   ]
  },
  {
   "cell_type": "code",
   "execution_count": 38,
   "metadata": {},
   "outputs": [
    {
     "name": "stdout",
     "output_type": "stream",
     "text": [
      "Accuracy: 0.933333%\n"
     ]
    }
   ],
   "source": [
    "model = gridsearch.best_estimator_\n",
    "\n",
    "# testing\n",
    "y_predict = model.predict(X_test)\n",
    "print('Accuracy: %f%%' % (np.mean(y_predict == y_test),))"
   ]
  },
  {
   "cell_type": "markdown",
   "metadata": {},
   "source": [
    "## Confusion Matrix\n",
    "\n",
    "sklearn.metrics.confusion_matrix(y_true, y_pred, labels=None, sample_weight=None)"
   ]
  },
  {
   "cell_type": "code",
   "execution_count": 39,
   "metadata": {},
   "outputs": [
    {
     "data": {
      "text/plain": [
       "array([[ 9,  0,  0],\n",
       "       [ 0,  5,  2],\n",
       "       [ 0,  0, 14]])"
      ]
     },
     "execution_count": 39,
     "metadata": {},
     "output_type": "execute_result"
    }
   ],
   "source": [
    "from sklearn.metrics import confusion_matrix\n",
    "\n",
    "cm = confusion_matrix(y_test, y_predict)\n",
    "cm"
   ]
  },
  {
   "cell_type": "markdown",
   "metadata": {},
   "source": [
    "**The previous function just computes the matrix, the next one plots it:**"
   ]
  },
  {
   "cell_type": "code",
   "execution_count": 41,
   "metadata": {},
   "outputs": [
    {
     "data": {
      "text/plain": [
       "<matplotlib.axes._subplots.AxesSubplot at 0x1a2428c2b0>"
      ]
     },
     "execution_count": 41,
     "metadata": {},
     "output_type": "execute_result"
    },
    {
     "data": {
      "image/png": "[encoded data removed]",
      "text/plain": [
       "<Figure size 432x288 with 2 Axes>"
      ]
     },
     "metadata": {
      "needs_background": "light"
     },
     "output_type": "display_data"
    }
   ],
   "source": [
    "import seaborn as sn\n",
    "import matplotlib.pyplot as plt # need this to plot after calling sn.heatmap(.)\n",
    "\n",
    "sn.heatmap(cm, annot=True, cmap=\"Blues\")"
   ]
  },
  {
   "cell_type": "markdown",
   "metadata": {},
   "source": [
    "# 3. Polynomial Kernel: \n",
    "\n",
    "## Training\n",
    "**degree : int, optional (default=3):** Degree of the polynomial kernel function (‘poly’). Ignored by all other kernels.\n",
    "\n",
    "**C : float, optional (default=1.0):** Penalty parameter C of the error term.\n",
    "\n",
    "**Others: gamma, coef0**"
   ]
  },
  {
   "cell_type": "code",
   "execution_count": 43,
   "metadata": {},
   "outputs": [
    {
     "name": "stdout",
     "output_type": "stream",
     "text": [
      "deg: [1, 2]\n",
      "gamma: [1.e+20 1.e+21 1.e+22 1.e+23 1.e+24 1.e+25 1.e+26 1.e+27 1.e+28 1.e+29\n",
      " 1.e+30]\n",
      "C:  [1.e-30 1.e-29 1.e-28 1.e-27 1.e-26 1.e-25 1.e-24 1.e-23 1.e-22 1.e-21\n",
      " 1.e-20]\n",
      "Fitting 3 folds for each of 242 candidates, totalling 726 fits\n"
     ]
    },
    {
     "name": "stderr",
     "output_type": "stream",
     "text": [
      "/anaconda3/lib/python3.7/site-packages/sklearn/model_selection/_split.py:2053: FutureWarning: You should specify a value for 'cv' instead of relying on the default value. The default value will change from 3 to 5 in version 0.22.\n",
      "  warnings.warn(CV_WARNING, FutureWarning)\n",
      "[Parallel(n_jobs=-1)]: Using backend LokyBackend with 8 concurrent workers.\n"
     ]
    },
    {
     "name": "stdout",
     "output_type": "stream",
     "text": [
      "====== Scores for all models ======\n"
     ]
    },
    {
     "name": "stderr",
     "output_type": "stream",
     "text": [
      "[Parallel(n_jobs=-1)]: Done 726 out of 726 | elapsed:    0.3s finished\n",
      "/anaconda3/lib/python3.7/site-packages/sklearn/model_selection/_search.py:841: DeprecationWarning: The default of the `iid` parameter will change from True to False in version 0.22 and will be removed in 0.24. This will change numeric results when test-set sizes are unequal.\n",
      "  DeprecationWarning)\n"
     ]
    },
    {
     "data": {
      "text/plain": [
       "['mean', 'std', 'params']"
      ]
     },
     "metadata": {},
     "output_type": "display_data"
    },
    {
     "data": {
      "text/plain": [
       "[(0.35833333333333334,\n",
       "  0.006527231646770835,\n",
       "  {'C': 1e-30, 'degree': 1, 'gamma': 1e+20}),\n",
       " (0.35833333333333334,\n",
       "  0.006527231646770835,\n",
       "  {'C': 1e-30, 'degree': 1, 'gamma': 1e+21}),\n",
       " (0.35833333333333334,\n",
       "  0.006527231646770835,\n",
       "  {'C': 1e-30, 'degree': 1, 'gamma': 1e+22}),\n",
       " (0.35833333333333334,\n",
       "  0.006527231646770835,\n",
       "  {'C': 1e-30, 'degree': 1, 'gamma': 1e+23}),\n",
       " (0.35833333333333334,\n",
       "  0.006527231646770835,\n",
       "  {'C': 1e-30, 'degree': 1, 'gamma': 1e+24}),\n",
       " (0.35833333333333334,\n",
       "  0.006527231646770835,\n",
       "  {'C': 1e-30, 'degree': 1, 'gamma': 1e+25}),\n",
       " (0.35833333333333334,\n",
       "  0.006527231646770835,\n",
       "  {'C': 1e-30, 'degree': 1, 'gamma': 1e+26}),\n",
       " (0.35833333333333334,\n",
       "  0.006527231646770835,\n",
       "  {'C': 1e-30, 'degree': 1, 'gamma': 1e+27}),\n",
       " (0.75, 0.023222173347924247, {'C': 1e-30, 'degree': 1, 'gamma': 1e+28}),\n",
       " (0.95, 0.02004203941111067, {'C': 1e-30, 'degree': 1, 'gamma': 1e+29}),\n",
       " (0.975, 0.019908326484529903, {'C': 1e-30, 'degree': 1, 'gamma': 1e+30}),\n",
       " (0.3, 0.006125638918316903, {'C': 1e-30, 'degree': 2, 'gamma': 1e+20}),\n",
       " (0.3, 0.006125638918316903, {'C': 1e-30, 'degree': 2, 'gamma': 1e+21}),\n",
       " (0.3, 0.006125638918316903, {'C': 1e-30, 'degree': 2, 'gamma': 1e+22}),\n",
       " (0.3, 0.006125638918316903, {'C': 1e-30, 'degree': 2, 'gamma': 1e+23}),\n",
       " (0.3, 0.006125638918316903, {'C': 1e-30, 'degree': 2, 'gamma': 1e+24}),\n",
       " (0.3, 0.006125638918316903, {'C': 1e-30, 'degree': 2, 'gamma': 1e+25}),\n",
       " (0.3, 0.006125638918316903, {'C': 1e-30, 'degree': 2, 'gamma': 1e+26}),\n",
       " (0.3, 0.006125638918316903, {'C': 1e-30, 'degree': 2, 'gamma': 1e+27}),\n",
       " (0.3, 0.006125638918316903, {'C': 1e-30, 'degree': 2, 'gamma': 1e+28}),\n",
       " (0.3, 0.006125638918316903, {'C': 1e-30, 'degree': 2, 'gamma': 1e+29}),\n",
       " (0.3, 0.006125638918316903, {'C': 1e-30, 'degree': 2, 'gamma': 1e+30}),\n",
       " (0.35833333333333334,\n",
       "  0.006527231646770835,\n",
       "  {'C': 1e-29, 'degree': 1, 'gamma': 1e+20}),\n",
       " (0.35833333333333334,\n",
       "  0.006527231646770835,\n",
       "  {'C': 1e-29, 'degree': 1, 'gamma': 1e+21}),\n",
       " (0.35833333333333334,\n",
       "  0.006527231646770835,\n",
       "  {'C': 1e-29, 'degree': 1, 'gamma': 1e+22}),\n",
       " (0.35833333333333334,\n",
       "  0.006527231646770835,\n",
       "  {'C': 1e-29, 'degree': 1, 'gamma': 1e+23}),\n",
       " (0.35833333333333334,\n",
       "  0.006527231646770835,\n",
       "  {'C': 1e-29, 'degree': 1, 'gamma': 1e+24}),\n",
       " (0.35833333333333334,\n",
       "  0.006527231646770835,\n",
       "  {'C': 1e-29, 'degree': 1, 'gamma': 1e+25}),\n",
       " (0.35833333333333334,\n",
       "  0.006527231646770835,\n",
       "  {'C': 1e-29, 'degree': 1, 'gamma': 1e+26}),\n",
       " (0.75, 0.023222173347924247, {'C': 1e-29, 'degree': 1, 'gamma': 1e+27}),\n",
       " (0.95, 0.02004203941111067, {'C': 1e-29, 'degree': 1, 'gamma': 1e+28}),\n",
       " (0.975, 0.019908326484529903, {'C': 1e-29, 'degree': 1, 'gamma': 1e+29}),\n",
       " (0.9833333333333333,\n",
       "  0.012009611535381545,\n",
       "  {'C': 1e-29, 'degree': 1, 'gamma': 1e+30}),\n",
       " (0.3, 0.006125638918316903, {'C': 1e-29, 'degree': 2, 'gamma': 1e+20}),\n",
       " (0.3, 0.006125638918316903, {'C': 1e-29, 'degree': 2, 'gamma': 1e+21}),\n",
       " (0.3, 0.006125638918316903, {'C': 1e-29, 'degree': 2, 'gamma': 1e+22}),\n",
       " (0.3, 0.006125638918316903, {'C': 1e-29, 'degree': 2, 'gamma': 1e+23}),\n",
       " (0.3, 0.006125638918316903, {'C': 1e-29, 'degree': 2, 'gamma': 1e+24}),\n",
       " (0.3, 0.006125638918316903, {'C': 1e-29, 'degree': 2, 'gamma': 1e+25}),\n",
       " (0.3, 0.006125638918316903, {'C': 1e-29, 'degree': 2, 'gamma': 1e+26}),\n",
       " (0.3, 0.006125638918316903, {'C': 1e-29, 'degree': 2, 'gamma': 1e+27}),\n",
       " (0.3, 0.006125638918316903, {'C': 1e-29, 'degree': 2, 'gamma': 1e+28}),\n",
       " (0.3, 0.006125638918316903, {'C': 1e-29, 'degree': 2, 'gamma': 1e+29}),\n",
       " (0.3, 0.006125638918316903, {'C': 1e-29, 'degree': 2, 'gamma': 1e+30}),\n",
       " (0.35833333333333334,\n",
       "  0.006527231646770835,\n",
       "  {'C': 1e-28, 'degree': 1, 'gamma': 1e+20}),\n",
       " (0.35833333333333334,\n",
       "  0.006527231646770835,\n",
       "  {'C': 1e-28, 'degree': 1, 'gamma': 1e+21}),\n",
       " (0.35833333333333334,\n",
       "  0.006527231646770835,\n",
       "  {'C': 1e-28, 'degree': 1, 'gamma': 1e+22}),\n",
       " (0.35833333333333334,\n",
       "  0.006527231646770835,\n",
       "  {'C': 1e-28, 'degree': 1, 'gamma': 1e+23}),\n",
       " (0.35833333333333334,\n",
       "  0.006527231646770835,\n",
       "  {'C': 1e-28, 'degree': 1, 'gamma': 1e+24}),\n",
       " (0.35833333333333334,\n",
       "  0.006527231646770835,\n",
       "  {'C': 1e-28, 'degree': 1, 'gamma': 1e+25}),\n",
       " (0.75, 0.023222173347924247, {'C': 1e-28, 'degree': 1, 'gamma': 1e+26}),\n",
       " (0.95, 0.02004203941111067, {'C': 1e-28, 'degree': 1, 'gamma': 1e+27}),\n",
       " (0.975, 0.019908326484529903, {'C': 1e-28, 'degree': 1, 'gamma': 1e+28}),\n",
       " (0.9833333333333333,\n",
       "  0.012009611535381545,\n",
       "  {'C': 1e-28, 'degree': 1, 'gamma': 1e+29}),\n",
       " (0.9666666666666667,\n",
       "  0.0117961632922642,\n",
       "  {'C': 1e-28, 'degree': 1, 'gamma': 1e+30}),\n",
       " (0.3, 0.006125638918316903, {'C': 1e-28, 'degree': 2, 'gamma': 1e+20}),\n",
       " (0.3, 0.006125638918316903, {'C': 1e-28, 'degree': 2, 'gamma': 1e+21}),\n",
       " (0.3, 0.006125638918316903, {'C': 1e-28, 'degree': 2, 'gamma': 1e+22}),\n",
       " (0.3, 0.006125638918316903, {'C': 1e-28, 'degree': 2, 'gamma': 1e+23}),\n",
       " (0.3, 0.006125638918316903, {'C': 1e-28, 'degree': 2, 'gamma': 1e+24}),\n",
       " (0.3, 0.006125638918316903, {'C': 1e-28, 'degree': 2, 'gamma': 1e+25}),\n",
       " (0.3, 0.006125638918316903, {'C': 1e-28, 'degree': 2, 'gamma': 1e+26}),\n",
       " (0.3, 0.006125638918316903, {'C': 1e-28, 'degree': 2, 'gamma': 1e+27}),\n",
       " (0.3, 0.006125638918316903, {'C': 1e-28, 'degree': 2, 'gamma': 1e+28}),\n",
       " (0.3, 0.006125638918316903, {'C': 1e-28, 'degree': 2, 'gamma': 1e+29}),\n",
       " (0.3, 0.006125638918316903, {'C': 1e-28, 'degree': 2, 'gamma': 1e+30}),\n",
       " (0.35833333333333334,\n",
       "  0.006527231646770835,\n",
       "  {'C': 1e-27, 'degree': 1, 'gamma': 1e+20}),\n",
       " (0.35833333333333334,\n",
       "  0.006527231646770835,\n",
       "  {'C': 1e-27, 'degree': 1, 'gamma': 1e+21}),\n",
       " (0.35833333333333334,\n",
       "  0.006527231646770835,\n",
       "  {'C': 1e-27, 'degree': 1, 'gamma': 1e+22}),\n",
       " (0.35833333333333334,\n",
       "  0.006527231646770835,\n",
       "  {'C': 1e-27, 'degree': 1, 'gamma': 1e+23}),\n",
       " (0.35833333333333334,\n",
       "  0.006527231646770835,\n",
       "  {'C': 1e-27, 'degree': 1, 'gamma': 1e+24}),\n",
       " (0.75, 0.023222173347924247, {'C': 1e-27, 'degree': 1, 'gamma': 1e+25}),\n",
       " (0.95, 0.02004203941111067, {'C': 1e-27, 'degree': 1, 'gamma': 1e+26}),\n",
       " (0.975, 0.019908326484529903, {'C': 1e-27, 'degree': 1, 'gamma': 1e+27}),\n",
       " (0.9833333333333333,\n",
       "  0.012009611535381545,\n",
       "  {'C': 1e-27, 'degree': 1, 'gamma': 1e+28}),\n",
       " (0.9666666666666667,\n",
       "  0.0117961632922642,\n",
       "  {'C': 1e-27, 'degree': 1, 'gamma': 1e+29}),\n",
       " (0.975, 0.020542846614053947, {'C': 1e-27, 'degree': 1, 'gamma': 1e+30}),\n",
       " (0.3, 0.006125638918316903, {'C': 1e-27, 'degree': 2, 'gamma': 1e+20}),\n",
       " (0.3, 0.006125638918316903, {'C': 1e-27, 'degree': 2, 'gamma': 1e+21}),\n",
       " (0.3, 0.006125638918316903, {'C': 1e-27, 'degree': 2, 'gamma': 1e+22}),\n",
       " (0.3, 0.006125638918316903, {'C': 1e-27, 'degree': 2, 'gamma': 1e+23}),\n",
       " (0.3, 0.006125638918316903, {'C': 1e-27, 'degree': 2, 'gamma': 1e+24}),\n",
       " (0.3, 0.006125638918316903, {'C': 1e-27, 'degree': 2, 'gamma': 1e+25}),\n",
       " (0.3, 0.006125638918316903, {'C': 1e-27, 'degree': 2, 'gamma': 1e+26}),\n",
       " (0.3, 0.006125638918316903, {'C': 1e-27, 'degree': 2, 'gamma': 1e+27}),\n",
       " (0.3, 0.006125638918316903, {'C': 1e-27, 'degree': 2, 'gamma': 1e+28}),\n",
       " (0.3, 0.006125638918316903, {'C': 1e-27, 'degree': 2, 'gamma': 1e+29}),\n",
       " (0.3, 0.006125638918316903, {'C': 1e-27, 'degree': 2, 'gamma': 1e+30}),\n",
       " (0.35833333333333334,\n",
       "  0.006527231646770835,\n",
       "  {'C': 1e-26, 'degree': 1, 'gamma': 1e+20}),\n",
       " (0.35833333333333334,\n",
       "  0.006527231646770835,\n",
       "  {'C': 1e-26, 'degree': 1, 'gamma': 1e+21}),\n",
       " (0.35833333333333334,\n",
       "  0.006527231646770835,\n",
       "  {'C': 1e-26, 'degree': 1, 'gamma': 1e+22}),\n",
       " (0.35833333333333334,\n",
       "  0.006527231646770835,\n",
       "  {'C': 1e-26, 'degree': 1, 'gamma': 1e+23}),\n",
       " (0.75, 0.023222173347924247, {'C': 1e-26, 'degree': 1, 'gamma': 1e+24}),\n",
       " (0.95, 0.02004203941111067, {'C': 1e-26, 'degree': 1, 'gamma': 1e+25}),\n",
       " (0.975, 0.019908326484529903, {'C': 1e-26, 'degree': 1, 'gamma': 1e+26}),\n",
       " (0.9833333333333333,\n",
       "  0.012009611535381545,\n",
       "  {'C': 1e-26, 'degree': 1, 'gamma': 1e+27}),\n",
       " (0.9666666666666667,\n",
       "  0.0117961632922642,\n",
       "  {'C': 1e-26, 'degree': 1, 'gamma': 1e+28}),\n",
       " (0.975, 0.020542846614053947, {'C': 1e-26, 'degree': 1, 'gamma': 1e+29}),\n",
       " (0.975, 0.020542846614053947, {'C': 1e-26, 'degree': 1, 'gamma': 1e+30}),\n",
       " (0.3, 0.006125638918316903, {'C': 1e-26, 'degree': 2, 'gamma': 1e+20}),\n",
       " (0.3, 0.006125638918316903, {'C': 1e-26, 'degree': 2, 'gamma': 1e+21}),\n",
       " (0.3, 0.006125638918316903, {'C': 1e-26, 'degree': 2, 'gamma': 1e+22}),\n",
       " (0.3, 0.006125638918316903, {'C': 1e-26, 'degree': 2, 'gamma': 1e+23}),\n",
       " (0.3, 0.006125638918316903, {'C': 1e-26, 'degree': 2, 'gamma': 1e+24}),\n",
       " (0.3, 0.006125638918316903, {'C': 1e-26, 'degree': 2, 'gamma': 1e+25}),\n",
       " (0.3, 0.006125638918316903, {'C': 1e-26, 'degree': 2, 'gamma': 1e+26}),\n",
       " (0.3, 0.006125638918316903, {'C': 1e-26, 'degree': 2, 'gamma': 1e+27}),\n",
       " (0.3, 0.006125638918316903, {'C': 1e-26, 'degree': 2, 'gamma': 1e+28}),\n",
       " (0.3, 0.006125638918316903, {'C': 1e-26, 'degree': 2, 'gamma': 1e+29}),\n",
       " (0.3, 0.006125638918316903, {'C': 1e-26, 'degree': 2, 'gamma': 1e+30}),\n",
       " (0.35833333333333334,\n",
       "  0.006527231646770835,\n",
       "  {'C': 1e-25, 'degree': 1, 'gamma': 1e+20}),\n",
       " (0.35833333333333334,\n",
       "  0.006527231646770835,\n",
       "  {'C': 1e-25, 'degree': 1, 'gamma': 1e+21}),\n",
       " (0.35833333333333334,\n",
       "  0.006527231646770835,\n",
       "  {'C': 1e-25, 'degree': 1, 'gamma': 1e+22}),\n",
       " (0.75, 0.023222173347924247, {'C': 1e-25, 'degree': 1, 'gamma': 1e+23}),\n",
       " (0.95, 0.02004203941111067, {'C': 1e-25, 'degree': 1, 'gamma': 1e+24}),\n",
       " (0.975, 0.019908326484529903, {'C': 1e-25, 'degree': 1, 'gamma': 1e+25}),\n",
       " (0.9833333333333333,\n",
       "  0.012009611535381545,\n",
       "  {'C': 1e-25, 'degree': 1, 'gamma': 1e+26}),\n",
       " (0.9666666666666667,\n",
       "  0.0117961632922642,\n",
       "  {'C': 1e-25, 'degree': 1, 'gamma': 1e+27}),\n",
       " (0.975, 0.020542846614053947, {'C': 1e-25, 'degree': 1, 'gamma': 1e+28}),\n",
       " (0.975, 0.020542846614053947, {'C': 1e-25, 'degree': 1, 'gamma': 1e+29}),\n",
       " (0.975, 0.020542846614053947, {'C': 1e-25, 'degree': 1, 'gamma': 1e+30}),\n",
       " (0.3, 0.006125638918316903, {'C': 1e-25, 'degree': 2, 'gamma': 1e+20}),\n",
       " (0.3, 0.006125638918316903, {'C': 1e-25, 'degree': 2, 'gamma': 1e+21}),\n",
       " (0.3, 0.006125638918316903, {'C': 1e-25, 'degree': 2, 'gamma': 1e+22}),\n",
       " (0.3, 0.006125638918316903, {'C': 1e-25, 'degree': 2, 'gamma': 1e+23}),\n",
       " (0.3, 0.006125638918316903, {'C': 1e-25, 'degree': 2, 'gamma': 1e+24}),\n",
       " (0.3, 0.006125638918316903, {'C': 1e-25, 'degree': 2, 'gamma': 1e+25}),\n",
       " (0.3, 0.006125638918316903, {'C': 1e-25, 'degree': 2, 'gamma': 1e+26}),\n",
       " (0.3, 0.006125638918316903, {'C': 1e-25, 'degree': 2, 'gamma': 1e+27}),\n",
       " (0.3, 0.006125638918316903, {'C': 1e-25, 'degree': 2, 'gamma': 1e+28}),\n",
       " (0.3, 0.006125638918316903, {'C': 1e-25, 'degree': 2, 'gamma': 1e+29}),\n",
       " (0.3, 0.006125638918316903, {'C': 1e-25, 'degree': 2, 'gamma': 1e+30}),\n",
       " (0.35833333333333334,\n",
       "  0.006527231646770835,\n",
       "  {'C': 1e-24, 'degree': 1, 'gamma': 1e+20}),\n",
       " (0.35833333333333334,\n",
       "  0.006527231646770835,\n",
       "  {'C': 1e-24, 'degree': 1, 'gamma': 1e+21}),\n",
       " (0.75, 0.023222173347924247, {'C': 1e-24, 'degree': 1, 'gamma': 1e+22}),\n",
       " (0.95, 0.02004203941111067, {'C': 1e-24, 'degree': 1, 'gamma': 1e+23}),\n",
       " (0.975, 0.019908326484529903, {'C': 1e-24, 'degree': 1, 'gamma': 1e+24}),\n",
       " (0.9833333333333333,\n",
       "  0.012009611535381545,\n",
       "  {'C': 1e-24, 'degree': 1, 'gamma': 1e+25}),\n",
       " (0.9666666666666667,\n",
       "  0.0117961632922642,\n",
       "  {'C': 1e-24, 'degree': 1, 'gamma': 1e+26}),\n",
       " (0.975, 0.020542846614053947, {'C': 1e-24, 'degree': 1, 'gamma': 1e+27}),\n",
       " (0.975, 0.020542846614053947, {'C': 1e-24, 'degree': 1, 'gamma': 1e+28}),\n",
       " (0.975, 0.020542846614053947, {'C': 1e-24, 'degree': 1, 'gamma': 1e+29}),\n",
       " (0.975, 0.020542846614053947, {'C': 1e-24, 'degree': 1, 'gamma': 1e+30}),\n",
       " (0.3, 0.006125638918316903, {'C': 1e-24, 'degree': 2, 'gamma': 1e+20}),\n",
       " (0.3, 0.006125638918316903, {'C': 1e-24, 'degree': 2, 'gamma': 1e+21}),\n",
       " (0.3, 0.006125638918316903, {'C': 1e-24, 'degree': 2, 'gamma': 1e+22}),\n",
       " (0.3, 0.006125638918316903, {'C': 1e-24, 'degree': 2, 'gamma': 1e+23}),\n",
       " (0.3, 0.006125638918316903, {'C': 1e-24, 'degree': 2, 'gamma': 1e+24}),\n",
       " (0.3, 0.006125638918316903, {'C': 1e-24, 'degree': 2, 'gamma': 1e+25}),\n",
       " (0.3, 0.006125638918316903, {'C': 1e-24, 'degree': 2, 'gamma': 1e+26}),\n",
       " (0.3, 0.006125638918316903, {'C': 1e-24, 'degree': 2, 'gamma': 1e+27}),\n",
       " (0.3, 0.006125638918316903, {'C': 1e-24, 'degree': 2, 'gamma': 1e+28}),\n",
       " (0.3, 0.006125638918316903, {'C': 1e-24, 'degree': 2, 'gamma': 1e+29}),\n",
       " (0.3, 0.006125638918316903, {'C': 1e-24, 'degree': 2, 'gamma': 1e+30}),\n",
       " (0.35833333333333334,\n",
       "  0.006527231646770835,\n",
       "  {'C': 1e-23, 'degree': 1, 'gamma': 1e+20}),\n",
       " (0.75, 0.023222173347924247, {'C': 1e-23, 'degree': 1, 'gamma': 1e+21}),\n",
       " (0.95, 0.02004203941111067, {'C': 1e-23, 'degree': 1, 'gamma': 1e+22}),\n",
       " (0.975, 0.019908326484529903, {'C': 1e-23, 'degree': 1, 'gamma': 1e+23}),\n",
       " (0.9833333333333333,\n",
       "  0.012009611535381545,\n",
       "  {'C': 1e-23, 'degree': 1, 'gamma': 1e+24}),\n",
       " (0.9666666666666667,\n",
       "  0.0117961632922642,\n",
       "  {'C': 1e-23, 'degree': 1, 'gamma': 1e+25}),\n",
       " (0.975, 0.020542846614053947, {'C': 1e-23, 'degree': 1, 'gamma': 1e+26}),\n",
       " (0.975, 0.020542846614053947, {'C': 1e-23, 'degree': 1, 'gamma': 1e+27}),\n",
       " (0.975, 0.020542846614053947, {'C': 1e-23, 'degree': 1, 'gamma': 1e+28}),\n",
       " (0.975, 0.020542846614053947, {'C': 1e-23, 'degree': 1, 'gamma': 1e+29}),\n",
       " (0.975, 0.020542846614053947, {'C': 1e-23, 'degree': 1, 'gamma': 1e+30}),\n",
       " (0.3, 0.006125638918316903, {'C': 1e-23, 'degree': 2, 'gamma': 1e+20}),\n",
       " (0.3, 0.006125638918316903, {'C': 1e-23, 'degree': 2, 'gamma': 1e+21}),\n",
       " (0.3, 0.006125638918316903, {'C': 1e-23, 'degree': 2, 'gamma': 1e+22}),\n",
       " (0.3, 0.006125638918316903, {'C': 1e-23, 'degree': 2, 'gamma': 1e+23}),\n",
       " (0.3, 0.006125638918316903, {'C': 1e-23, 'degree': 2, 'gamma': 1e+24}),\n",
       " (0.3, 0.006125638918316903, {'C': 1e-23, 'degree': 2, 'gamma': 1e+25}),\n",
       " (0.3, 0.006125638918316903, {'C': 1e-23, 'degree': 2, 'gamma': 1e+26}),\n",
       " (0.3, 0.006125638918316903, {'C': 1e-23, 'degree': 2, 'gamma': 1e+27}),\n",
       " (0.3, 0.006125638918316903, {'C': 1e-23, 'degree': 2, 'gamma': 1e+28}),\n",
       " (0.3, 0.006125638918316903, {'C': 1e-23, 'degree': 2, 'gamma': 1e+29}),\n",
       " (0.3, 0.006125638918316903, {'C': 1e-23, 'degree': 2, 'gamma': 1e+30}),\n",
       " (0.75, 0.023222173347924247, {'C': 1e-22, 'degree': 1, 'gamma': 1e+20}),\n",
       " (0.95, 0.02004203941111067, {'C': 1e-22, 'degree': 1, 'gamma': 1e+21}),\n",
       " (0.975, 0.019908326484529903, {'C': 1e-22, 'degree': 1, 'gamma': 1e+22}),\n",
       " (0.9833333333333333,\n",
       "  0.012009611535381545,\n",
       "  {'C': 1e-22, 'degree': 1, 'gamma': 1e+23}),\n",
       " (0.9666666666666667,\n",
       "  0.0117961632922642,\n",
       "  {'C': 1e-22, 'degree': 1, 'gamma': 1e+24}),\n",
       " (0.975, 0.020542846614053947, {'C': 1e-22, 'degree': 1, 'gamma': 1e+25}),\n",
       " (0.975, 0.020542846614053947, {'C': 1e-22, 'degree': 1, 'gamma': 1e+26}),\n",
       " (0.975, 0.020542846614053947, {'C': 1e-22, 'degree': 1, 'gamma': 1e+27}),\n",
       " (0.975, 0.020542846614053947, {'C': 1e-22, 'degree': 1, 'gamma': 1e+28}),\n",
       " (0.975, 0.020542846614053947, {'C': 1e-22, 'degree': 1, 'gamma': 1e+29}),\n",
       " (0.975, 0.020542846614053947, {'C': 1e-22, 'degree': 1, 'gamma': 1e+30}),\n",
       " (0.3, 0.006125638918316903, {'C': 1e-22, 'degree': 2, 'gamma': 1e+20}),\n",
       " (0.3, 0.006125638918316903, {'C': 1e-22, 'degree': 2, 'gamma': 1e+21}),\n",
       " (0.3, 0.006125638918316903, {'C': 1e-22, 'degree': 2, 'gamma': 1e+22}),\n",
       " (0.3, 0.006125638918316903, {'C': 1e-22, 'degree': 2, 'gamma': 1e+23}),\n",
       " (0.3, 0.006125638918316903, {'C': 1e-22, 'degree': 2, 'gamma': 1e+24}),\n",
       " (0.3, 0.006125638918316903, {'C': 1e-22, 'degree': 2, 'gamma': 1e+25}),\n",
       " (0.3, 0.006125638918316903, {'C': 1e-22, 'degree': 2, 'gamma': 1e+26}),\n",
       " (0.3, 0.006125638918316903, {'C': 1e-22, 'degree': 2, 'gamma': 1e+27}),\n",
       " (0.3, 0.006125638918316903, {'C': 1e-22, 'degree': 2, 'gamma': 1e+28}),\n",
       " (0.3, 0.006125638918316903, {'C': 1e-22, 'degree': 2, 'gamma': 1e+29}),\n",
       " (0.3, 0.006125638918316903, {'C': 1e-22, 'degree': 2, 'gamma': 1e+30}),\n",
       " (0.95, 0.02004203941111067, {'C': 1e-21, 'degree': 1, 'gamma': 1e+20}),\n",
       " (0.975, 0.019908326484529903, {'C': 1e-21, 'degree': 1, 'gamma': 1e+21}),\n",
       " (0.9833333333333333,\n",
       "  0.012009611535381545,\n",
       "  {'C': 1e-21, 'degree': 1, 'gamma': 1e+22}),\n",
       " (0.9666666666666667,\n",
       "  0.0117961632922642,\n",
       "  {'C': 1e-21, 'degree': 1, 'gamma': 1e+23}),\n",
       " (0.975, 0.020542846614053947, {'C': 1e-21, 'degree': 1, 'gamma': 1e+24}),\n",
       " (0.975, 0.020542846614053947, {'C': 1e-21, 'degree': 1, 'gamma': 1e+25}),\n",
       " (0.975, 0.020542846614053947, {'C': 1e-21, 'degree': 1, 'gamma': 1e+26}),\n",
       " (0.975, 0.020542846614053947, {'C': 1e-21, 'degree': 1, 'gamma': 1e+27}),\n",
       " (0.975, 0.020542846614053947, {'C': 1e-21, 'degree': 1, 'gamma': 1e+28}),\n",
       " (0.975, 0.020542846614053947, {'C': 1e-21, 'degree': 1, 'gamma': 1e+29}),\n",
       " (0.975, 0.020542846614053947, {'C': 1e-21, 'degree': 1, 'gamma': 1e+30}),\n",
       " (0.3, 0.006125638918316903, {'C': 1e-21, 'degree': 2, 'gamma': 1e+20}),\n",
       " (0.3, 0.006125638918316903, {'C': 1e-21, 'degree': 2, 'gamma': 1e+21}),\n",
       " (0.3, 0.006125638918316903, {'C': 1e-21, 'degree': 2, 'gamma': 1e+22}),\n",
       " (0.3, 0.006125638918316903, {'C': 1e-21, 'degree': 2, 'gamma': 1e+23}),\n",
       " (0.3, 0.006125638918316903, {'C': 1e-21, 'degree': 2, 'gamma': 1e+24}),\n",
       " (0.3, 0.006125638918316903, {'C': 1e-21, 'degree': 2, 'gamma': 1e+25}),\n",
       " (0.3, 0.006125638918316903, {'C': 1e-21, 'degree': 2, 'gamma': 1e+26}),\n",
       " (0.3, 0.006125638918316903, {'C': 1e-21, 'degree': 2, 'gamma': 1e+27}),\n",
       " (0.3, 0.006125638918316903, {'C': 1e-21, 'degree': 2, 'gamma': 1e+28}),\n",
       " (0.3, 0.006125638918316903, {'C': 1e-21, 'degree': 2, 'gamma': 1e+29}),\n",
       " (0.3, 0.006125638918316903, {'C': 1e-21, 'degree': 2, 'gamma': 1e+30}),\n",
       " (0.975, 0.019908326484529903, {'C': 1e-20, 'degree': 1, 'gamma': 1e+20}),\n",
       " (0.9833333333333333,\n",
       "  0.012009611535381545,\n",
       "  {'C': 1e-20, 'degree': 1, 'gamma': 1e+21}),\n",
       " (0.9666666666666667,\n",
       "  0.0117961632922642,\n",
       "  {'C': 1e-20, 'degree': 1, 'gamma': 1e+22}),\n",
       " (0.975, 0.020542846614053947, {'C': 1e-20, 'degree': 1, 'gamma': 1e+23}),\n",
       " (0.975, 0.020542846614053947, {'C': 1e-20, 'degree': 1, 'gamma': 1e+24}),\n",
       " (0.975, 0.020542846614053947, {'C': 1e-20, 'degree': 1, 'gamma': 1e+25}),\n",
       " (0.975, 0.020542846614053947, {'C': 1e-20, 'degree': 1, 'gamma': 1e+26}),\n",
       " (0.975, 0.020542846614053947, {'C': 1e-20, 'degree': 1, 'gamma': 1e+27}),\n",
       " (0.975, 0.020542846614053947, {'C': 1e-20, 'degree': 1, 'gamma': 1e+28}),\n",
       " (0.975, 0.020542846614053947, {'C': 1e-20, 'degree': 1, 'gamma': 1e+29}),\n",
       " (0.975, 0.020542846614053947, {'C': 1e-20, 'degree': 1, 'gamma': 1e+30}),\n",
       " (0.3, 0.006125638918316903, {'C': 1e-20, 'degree': 2, 'gamma': 1e+20}),\n",
       " (0.3, 0.006125638918316903, {'C': 1e-20, 'degree': 2, 'gamma': 1e+21}),\n",
       " (0.3, 0.006125638918316903, {'C': 1e-20, 'degree': 2, 'gamma': 1e+22}),\n",
       " (0.3, 0.006125638918316903, {'C': 1e-20, 'degree': 2, 'gamma': 1e+23}),\n",
       " (0.3, 0.006125638918316903, {'C': 1e-20, 'degree': 2, 'gamma': 1e+24}),\n",
       " (0.3, 0.006125638918316903, {'C': 1e-20, 'degree': 2, 'gamma': 1e+25}),\n",
       " (0.3, 0.006125638918316903, {'C': 1e-20, 'degree': 2, 'gamma': 1e+26}),\n",
       " (0.3, 0.006125638918316903, {'C': 1e-20, 'degree': 2, 'gamma': 1e+27}),\n",
       " (0.3, 0.006125638918316903, {'C': 1e-20, 'degree': 2, 'gamma': 1e+28}),\n",
       " (0.3, 0.006125638918316903, {'C': 1e-20, 'degree': 2, 'gamma': 1e+29}),\n",
       " (0.3, 0.006125638918316903, {'C': 1e-20, 'degree': 2, 'gamma': 1e+30})]"
      ]
     },
     "metadata": {},
     "output_type": "display_data"
    },
    {
     "name": "stdout",
     "output_type": "stream",
     "text": [
      "\n",
      "====== Parameters for the best model ======\n",
      "{'C': 1e-29, 'degree': 1, 'gamma': 1e+30}\n",
      "\n",
      "====== Score for the best model ======\n",
      "0.9833333333333333\n"
     ]
    }
   ],
   "source": [
    "model = svm.SVC(kernel = 'poly')\n",
    "# create a dictionary of hyperparameters (of the model) for grid search\n",
    "degs = range(1, 3)\n",
    "print('deg:', list(degs))\n",
    "start = 20\n",
    "end = 30\n",
    "size = end - start + 1\n",
    "gamma_vals = np.logspace(start, end, size) # base 10\n",
    "print('gamma:', gamma_vals)\n",
    "C_vals = np.logspace(-end, -start, size) # base 10\n",
    "print('C: ',C_vals)\n",
    "params = {\n",
    "    'degree': degs,\n",
    "    'gamma': gamma_vals,\n",
    "    'C': C_vals\n",
    "}\n",
    "\n",
    "# grid search\n",
    "gridsearch = GridSearchCV(estimator = model, param_grid = params, verbose = 2, n_jobs = -1)\n",
    "# by setting verbose = 2, we can see that runtime increases quickly with larger (degree, C, gamma)\n",
    "# by setting n_jobs = -1, we use all CPU cores in parallel to train the models\n",
    "gridsearch.fit(X_train, y_train);\n",
    "\n",
    "# print results\n",
    "print(\"====== Scores for all models ======\")\n",
    "display(['mean', 'std', 'params'])\n",
    "display(list(zip(gridsearch.cv_results_['mean_test_score'], gridsearch.cv_results_['std_test_score'], gridsearch.cv_results_['params']))) # IPython.display, a better looking function than print()\n",
    "print()\n",
    "\n",
    "print(\"====== Parameters for the best model ======\")\n",
    "print(gridsearch.best_params_)\n",
    "print()\n",
    "\n",
    "print(\"====== Score for the best model ======\")\n",
    "print(gridsearch.best_score_)"
   ]
  },
  {
   "cell_type": "code",
   "execution_count": 44,
   "metadata": {},
   "outputs": [
    {
     "name": "stdout",
     "output_type": "stream",
     "text": [
      "Accuracy: 0.933333%\n"
     ]
    }
   ],
   "source": [
    "model = gridsearch.best_estimator_\n",
    "\n",
    "# testing\n",
    "y_predict = model.predict(X_test)\n",
    "print('Accuracy: %f%%' % (np.mean(y_predict == y_test),))"
   ]
  },
  {
   "cell_type": "markdown",
   "metadata": {},
   "source": [
    "# 4. Sigmoidal Kernel: \n",
    "\n",
    "## Training\n",
    "**gamma : float, optional (default=’auto’):** Kernel coefficient\n",
    "        \n",
    "**C : float, optional (default=1.0):** Penalty parameter C of the error term.\n",
    "        \n",
    "**Others: coef0**"
   ]
  },
  {
   "cell_type": "code",
   "execution_count": 45,
   "metadata": {},
   "outputs": [
    {
     "name": "stdout",
     "output_type": "stream",
     "text": [
      "gamma: [1.e-08 1.e-07 1.e-06 1.e-05 1.e-04 1.e-03 1.e-02 1.e-01]\n",
      "C:  [1.e+01 1.e+02 1.e+03 1.e+04 1.e+05 1.e+06 1.e+07 1.e+08]\n",
      "Fitting 3 folds for each of 64 candidates, totalling 192 fits\n",
      "====== Scores for all models ======\n"
     ]
    },
    {
     "name": "stderr",
     "output_type": "stream",
     "text": [
      "/anaconda3/lib/python3.7/site-packages/sklearn/model_selection/_split.py:2053: FutureWarning: You should specify a value for 'cv' instead of relying on the default value. The default value will change from 3 to 5 in version 0.22.\n",
      "  warnings.warn(CV_WARNING, FutureWarning)\n",
      "[Parallel(n_jobs=-1)]: Using backend LokyBackend with 8 concurrent workers.\n",
      "[Parallel(n_jobs=-1)]: Done 192 out of 192 | elapsed:    0.1s finished\n",
      "/anaconda3/lib/python3.7/site-packages/sklearn/model_selection/_search.py:841: DeprecationWarning: The default of the `iid` parameter will change from True to False in version 0.22 and will be removed in 0.24. This will change numeric results when test-set sizes are unequal.\n",
      "  DeprecationWarning)\n"
     ]
    },
    {
     "data": {
      "text/plain": [
       "['mean', 'std', 'params']"
      ]
     },
     "metadata": {},
     "output_type": "display_data"
    },
    {
     "data": {
      "text/plain": [
       "[(0.35833333333333334, 0.006527231646770835, {'C': 10.0, 'gamma': 1e-08}),\n",
       " (0.35833333333333334, 0.006527231646770835, {'C': 10.0, 'gamma': 1e-07}),\n",
       " (0.35833333333333334, 0.006527231646770835, {'C': 10.0, 'gamma': 1e-06}),\n",
       " (0.35833333333333334, 0.006527231646770835, {'C': 10.0, 'gamma': 1e-05}),\n",
       " (0.35833333333333334, 0.006527231646770835, {'C': 10.0, 'gamma': 0.0001}),\n",
       " (0.75, 0.023222173347924247, {'C': 10.0, 'gamma': 0.001}),\n",
       " (0.975, 0.020929266304249385, {'C': 10.0, 'gamma': 0.01}),\n",
       " (0.35833333333333334, 0.006527231646770835, {'C': 10.0, 'gamma': 0.1}),\n",
       " (0.35833333333333334, 0.006527231646770835, {'C': 100.0, 'gamma': 1e-08}),\n",
       " (0.35833333333333334, 0.006527231646770835, {'C': 100.0, 'gamma': 1e-07}),\n",
       " (0.35833333333333334, 0.006527231646770835, {'C': 100.0, 'gamma': 1e-06}),\n",
       " (0.35833333333333334, 0.006527231646770835, {'C': 100.0, 'gamma': 1e-05}),\n",
       " (0.75, 0.023222173347924247, {'C': 100.0, 'gamma': 0.0001}),\n",
       " (0.9416666666666667, 0.01182925217435053, {'C': 100.0, 'gamma': 0.001}),\n",
       " (0.9166666666666666, 0.024913860354702295, {'C': 100.0, 'gamma': 0.01}),\n",
       " (0.14166666666666666, 0.048597968681142335, {'C': 100.0, 'gamma': 0.1}),\n",
       " (0.35833333333333334, 0.006527231646770835, {'C': 1000.0, 'gamma': 1e-08}),\n",
       " (0.35833333333333334, 0.006527231646770835, {'C': 1000.0, 'gamma': 1e-07}),\n",
       " (0.35833333333333334, 0.006527231646770835, {'C': 1000.0, 'gamma': 1e-06}),\n",
       " (0.75, 0.023222173347924247, {'C': 1000.0, 'gamma': 1e-05}),\n",
       " (0.95, 0.02004203941111067, {'C': 1000.0, 'gamma': 0.0001}),\n",
       " (0.975, 0.019908326484529903, {'C': 1000.0, 'gamma': 0.001}),\n",
       " (0.8333333333333334, 0.01231492126664346, {'C': 1000.0, 'gamma': 0.01}),\n",
       " (0.09166666666666666, 0.06270474073906057, {'C': 1000.0, 'gamma': 0.1}),\n",
       " (0.35833333333333334, 0.006527231646770835, {'C': 10000.0, 'gamma': 1e-08}),\n",
       " (0.35833333333333334, 0.006527231646770835, {'C': 10000.0, 'gamma': 1e-07}),\n",
       " (0.75, 0.023222173347924247, {'C': 10000.0, 'gamma': 1e-06}),\n",
       " (0.95, 0.02004203941111067, {'C': 10000.0, 'gamma': 1e-05}),\n",
       " (0.975, 0.019908326484529903, {'C': 10000.0, 'gamma': 0.0001}),\n",
       " (0.9833333333333333, 0.012009611535381545, {'C': 10000.0, 'gamma': 0.001}),\n",
       " (0.8416666666666667, 0.014755141353871641, {'C': 10000.0, 'gamma': 0.01}),\n",
       " (0.06666666666666667, 0.04268303850606314, {'C': 10000.0, 'gamma': 0.1}),\n",
       " (0.35833333333333334, 0.006527231646770835, {'C': 100000.0, 'gamma': 1e-08}),\n",
       " (0.75, 0.023222173347924247, {'C': 100000.0, 'gamma': 1e-07}),\n",
       " (0.95, 0.02004203941111067, {'C': 100000.0, 'gamma': 1e-06}),\n",
       " (0.975, 0.019908326484529903, {'C': 100000.0, 'gamma': 1e-05}),\n",
       " (0.9833333333333333, 0.012009611535381545, {'C': 100000.0, 'gamma': 0.0001}),\n",
       " (0.9666666666666667, 0.0117961632922642, {'C': 100000.0, 'gamma': 0.001}),\n",
       " (0.85, 0.023481615853548087, {'C': 100000.0, 'gamma': 0.01}),\n",
       " (0.06666666666666667, 0.04268303850606314, {'C': 100000.0, 'gamma': 0.1}),\n",
       " (0.75, 0.023222173347924247, {'C': 1000000.0, 'gamma': 1e-08}),\n",
       " (0.95, 0.02004203941111067, {'C': 1000000.0, 'gamma': 1e-07}),\n",
       " (0.975, 0.019908326484529903, {'C': 1000000.0, 'gamma': 1e-06}),\n",
       " (0.9833333333333333, 0.012009611535381545, {'C': 1000000.0, 'gamma': 1e-05}),\n",
       " (0.9666666666666667, 0.0117961632922642, {'C': 1000000.0, 'gamma': 0.0001}),\n",
       " (0.975, 0.020542846614053947, {'C': 1000000.0, 'gamma': 0.001}),\n",
       " (0.85, 0.023481615853548087, {'C': 1000000.0, 'gamma': 0.01}),\n",
       " (0.06666666666666667, 0.04268303850606314, {'C': 1000000.0, 'gamma': 0.1}),\n",
       " (0.95, 0.02004203941111067, {'C': 10000000.0, 'gamma': 1e-08}),\n",
       " (0.975, 0.019908326484529903, {'C': 10000000.0, 'gamma': 1e-07}),\n",
       " (0.9833333333333333, 0.012009611535381545, {'C': 10000000.0, 'gamma': 1e-06}),\n",
       " (0.9666666666666667, 0.0117961632922642, {'C': 10000000.0, 'gamma': 1e-05}),\n",
       " (0.975, 0.020542846614053947, {'C': 10000000.0, 'gamma': 0.0001}),\n",
       " (0.975, 0.020542846614053947, {'C': 10000000.0, 'gamma': 0.001}),\n",
       " (0.85, 0.023481615853548087, {'C': 10000000.0, 'gamma': 0.01}),\n",
       " (0.06666666666666667, 0.04268303850606314, {'C': 10000000.0, 'gamma': 0.1}),\n",
       " (0.975, 0.019908326484529903, {'C': 100000000.0, 'gamma': 1e-08}),\n",
       " (0.9833333333333333,\n",
       "  0.012009611535381545,\n",
       "  {'C': 100000000.0, 'gamma': 1e-07}),\n",
       " (0.9666666666666667, 0.0117961632922642, {'C': 100000000.0, 'gamma': 1e-06}),\n",
       " (0.975, 0.020542846614053947, {'C': 100000000.0, 'gamma': 1e-05}),\n",
       " (0.975, 0.020542846614053947, {'C': 100000000.0, 'gamma': 0.0001}),\n",
       " (0.975, 0.020542846614053947, {'C': 100000000.0, 'gamma': 0.001}),\n",
       " (0.85, 0.023481615853548087, {'C': 100000000.0, 'gamma': 0.01}),\n",
       " (0.06666666666666667, 0.04268303850606314, {'C': 100000000.0, 'gamma': 0.1})]"
      ]
     },
     "metadata": {},
     "output_type": "display_data"
    },
    {
     "name": "stdout",
     "output_type": "stream",
     "text": [
      "\n",
      "====== Parameters for the best model ======\n",
      "{'C': 10000.0, 'gamma': 0.001}\n",
      "\n",
      "====== Score for the best model ======\n",
      "0.9833333333333333\n"
     ]
    }
   ],
   "source": [
    "model = svm.SVC(kernel = 'sigmoid')\n",
    "# create a dictionary of hyperparameters (of the model) for grid search\n",
    "start = 1\n",
    "end = 8\n",
    "size = end - start + 1\n",
    "gamma_vals = np.logspace(-end, -start, size) # base 10\n",
    "print('gamma:', gamma_vals)\n",
    "C_vals = np.logspace(start, end, size) # base 10\n",
    "print('C: ',C_vals)\n",
    "params = {\n",
    "    'C': C_vals, # expensive when C is large\n",
    "    'gamma': gamma_vals\n",
    "}\n",
    "\n",
    "# grid search\n",
    "gridsearch = GridSearchCV(estimator = model, param_grid = params, verbose = 2, n_jobs = -1)\n",
    "# by setting verbose = 2, we can see that runtime increases quickly with larger (degree, C, gamma)\n",
    "# by setting n_jobs = -1, we use all CPU cores in parallel to train the models\n",
    "gridsearch.fit(X_train, y_train);\n",
    "\n",
    "# print results\n",
    "print(\"====== Scores for all models ======\")\n",
    "display(['mean', 'std', 'params'])\n",
    "display(list(zip(gridsearch.cv_results_['mean_test_score'], gridsearch.cv_results_['std_test_score'], gridsearch.cv_results_['params']))) # IPython.display, a better looking function than print()\n",
    "print()\n",
    "\n",
    "print(\"====== Parameters for the best model ======\")\n",
    "print(gridsearch.best_params_)\n",
    "print()\n",
    "\n",
    "print(\"====== Score for the best model ======\")\n",
    "print(gridsearch.best_score_)"
   ]
  },
  {
   "cell_type": "code",
   "execution_count": 46,
   "metadata": {},
   "outputs": [
    {
     "name": "stdout",
     "output_type": "stream",
     "text": [
      "Accuracy: 0.933333%\n"
     ]
    }
   ],
   "source": [
    "model = gridsearch.best_estimator_\n",
    "\n",
    "# testing\n",
    "y_predict = model.predict(X_test)\n",
    "print('Accuracy: %f%%' % (np.mean(y_predict == y_test),))"
   ]
  },
  {
   "cell_type": "markdown",
   "metadata": {},
   "source": [
    "THE END"
   ]
  }
 ],
 "metadata": {
  "kernelspec": {
   "display_name": "Python 3",
   "language": "python",
   "name": "python3"
  },
  "language_info": {
   "codemirror_mode": {
    "name": "ipython",
    "version": 3
   },
   "file_extension": ".py",
   "mimetype": "text/x-python",
   "name": "python",
   "nbconvert_exporter": "python",
   "pygments_lexer": "ipython3",
   "version": "3.7.1"
  }
 },
 "nbformat": 4,
 "nbformat_minor": 2
}
